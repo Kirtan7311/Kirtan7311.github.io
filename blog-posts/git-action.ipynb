{
 "cells": [
  {
   "cell_type": "markdown",
   "id": "7101a1f4",
   "metadata": {},
   "source": [
    "---\n",
    "title: \"Explore GitHub Beyond Codes\"\n",
    "author: \"Kirtan Gangani\"\n",
    "date: \"July 14, 2025\"\n",
    "categories: [git, portfolio, personal branding, web development]\n",
    "format:\n",
    "  html:\n",
    "    toc: true\n",
    "    code-fold: false\n",
    "    code-copy: true\n",
    "jupyter: python3\n",
    "image: \"./images/git.png\"\n",
    "---"
   ]
  },
  {
   "cell_type": "markdown",
   "id": "247eb7e7",
   "metadata": {},
   "source": [
    "# Introduction: GitHub - More Than Just Code\n",
    "\n",
    "When you hear \"GitHub\" you probably think of code repositories, pull requests, and software development. And you aren't wrong! GitHub is undeniably the world's leading platform for collaborative software development.\n",
    "\n",
    "But what if I told you GitHub's capabilities are beyond these lines of code? What if you could leverage this powerful platform to host your resume, showcase your portfolio, share academic papers, or even create a simple personal website – all for free?\n",
    "\n",
    "GitHub is an incredible tool that can serve as your ultimate digital portfolio, allowing you to present a wide range of your work to the world. And if you're already using **Quarto** for your blog (like me!), you're in an even better position to showcase a diverse range of content effortlessly. In this blog post, we'll explore how you can use GitHub to showcase more than just your programming."
   ]
  },
  {
   "cell_type": "markdown",
   "id": "535cab76",
   "metadata": {},
   "source": [
    "# Why Use GitHub for Your Non-Code Assets?\n",
    "\n",
    "Before diving into the \"how,\" let's consider the \"why\":\n",
    "\n",
    "1.  **Free Hosting:** **GitHub Pages** offers completely free web hosting for static content. This means you can host your CV, PDF portfolio, or a simple personal website without paying a dime.\n",
    "2.  **Version Control:** GitHub's version control (Git) allows you to track changes, revert to previous versions, and manage updates seamlessly. No more \"resume\\_final\\_v2\\_really\\_final.pdf\"!\n",
    "3.  **Accessibility:** Your files are hosted online and accessible from anywhere with an internet connection. Share a simple URL with potential employers, collaborators, or friends.\n",
    "4.  **Professionalism:** A well-organized GitHub repository, especially when paired with a custom GitHub Pages site (perhaps built with Quarto!) shows attention to detail and dedication.\n",
    "5.  **Simplicity:** For basic hosting, setting up GitHub Pages is surprisingly straightforward, often requiring minimal to no coding knowledge. For those already using Quarto, much of the setup is already handled for you!"
   ]
  },
  {
   "cell_type": "markdown",
   "id": "d59ebc6b",
   "metadata": {},
   "source": [
    "# What Can You Host on GitHub (Beyond Code)?\n",
    "\n",
    "Here are some popular non-code assets you can effectively host:\n",
    "\n",
    "* **Resumes & CVs (PDF, HTML):** The most common use case. Make your resume easily shareable and always up-to-date online. You can even create an interactive HTML resume!\n",
    "* **Portfolios (PDF, Images, HTML):**\n",
    "    * **Design Portfolios:** Showcase your graphic design, UI/UX work, illustrations, or photography. You can embed images or link to PDF portfolios.\n",
    "    * **Writing Portfolios:** Host PDFs of articles, essays, short stories, or even link to blog posts.\n",
    "* **Academic Papers & Presentations (PDF, HTML):** Researchers and students can share their work, theses, or presentation slides. Quarto is excellent for creating academic documents!\n",
    "* **Reports & Documents (PDF):** Any general document you want to share publicly.\n",
    "* **Personal Websites/Blogs:** Use Quarto, Jekyll, or simply plain HTML/CSS to build a simple, elegant personal site without complex server setup.\n",
    "* **Data Visualizations:** If you create interactive visualizations (e.g., with D3.js or Plotly.js), GitHub Pages is an excellent way to host and share them. Quarto supports embedding these beautifully.\n",
    "* **Interactive Demos:** For front-end developers, host simple web-based demos of your projects."
   ]
  },
  {
   "cell_type": "markdown",
   "id": "61b5a685",
   "metadata": {},
   "source": [
    "\n",
    "# How to Host Your Assets with GitHub Pages\n",
    "\n",
    "The magic behind hosting non-code assets lies with **GitHub Pages**. It is a service that takes files directly from a GitHub repository, runs them through a static site generator (like Quarto or Jekyll, though not always necessary), and publishes a website.\n",
    "\n",
    "Here's a simplified general workflow, keeping in mind that Quarto often streamlines much of this for you:\n",
    "\n",
    "1.  **Create a Repository:**\n",
    "    * Log in to GitHub and create a new public repository. Give it a descriptive name like `my-portfolio`, `kirtangangani-resume`, or `personal-website`.\n",
    "    * **Note:** For a user or organization site, name your repository exactly `username.github.io` (e.g., `kirtangangani.github.io`). This automatically sets up your GitHub Pages URL.\n",
    "\n",
    "2.  **Upload Your Files:**\n",
    "    * You can drag and drop files directly into your new repository via the GitHub web interface.\n",
    "    * Alternatively, clone the repository to your local machine, add your files, and then push them using Git commands (e.g., `git add .`, `git commit -m \"Add resume\"`, `git push origin main`).\n",
    "    * For a simple PDF, just upload the PDF file (e.g., `resume.pdf`).\n",
    "    * For an HTML website, make sure your main file is named `index.html` in the root of your repository.\n",
    "\n",
    "3.  **Enable GitHub Pages:**\n",
    "    * Go to your repository's **Settings** tab.\n",
    "    * On the left sidebar, click on **Pages**.\n",
    "    * Under \"Build and deployment,\" choose your branch (usually `main` or `master`) as the \"Source.\"\n",
    "    * Click \"Save.\"\n",
    "    * GitHub will then provide you with a URL where your content is published (e.g., `https://username.github.io/repository-name/`). For a user/organization site (`username.github.io`), the URL will just be `https://username.github.io`.\n",
    "\n",
    "4.  **Share Your Link!**\n",
    "    * Once GitHub finishes deploying (it might take a minute or two), your content will be live! You can then share this URL with anyone."
   ]
  },
  {
   "cell_type": "markdown",
   "id": "f2867427",
   "metadata": {},
   "source": [
    "**Example for a PDF CV:**\n",
    "\n",
    "1.  Create a repo named `my-resume`.\n",
    "2.  Upload `kirtan_gangani_cv.pdf` to the root of the repo.\n",
    "3.  Go to **Settings** > **Pages**, select `main` branch, and save.\n",
    "4.  Your CV will be accessible at `https://yourusername.github.io/my-resume/kirtan_gangani_cv.pdf`."
   ]
  },
  {
   "cell_type": "markdown",
   "id": "eca2d68b",
   "metadata": {},
   "source": [
    "# Tips for Maximizing Your Digital Portfolio on GitHub:\n",
    "\n",
    "* **README.md:** Always include a clear and descriptive `README.md` file in your repository. Explain what the repo contains, what files are available, and how to access them (e.g., provide direct links to your hosted PDFs).\n",
    "* **Organize Folders:** For larger portfolios, use well-named folders (e.g., `/design-projects`, `/writing-samples`, `/presentations`).\n",
    "* **Custom Domains:** For a more professional touch, you can even connect a custom domain (e.g., `www.yourname.com`) to your GitHub Pages site.\n",
    "* **Use Quarto's Power:** If you're hosting an `index.qmd` or similar, Quarto can render beautiful HTML pages from Markdown, R, Python, or Julia code, making it perfect for dynamic portfolios or academic papers.\n",
    "* **Commit Your changes:** Commit changes to your resume or portfolio as you update them. This creates a history you can always refer back to."
   ]
  },
  {
   "cell_type": "markdown",
   "metadata": {},
   "source": [
    "# Conclusion\n",
    "\n",
    "GitHub is no longer just for developers. It's a powerful, free, and accessible platform for anyone looking to establish a robust online presence. Whether you are a student building your first online resume, a designer showcasing your creative flair, or a writer sharing your prose, GitHub Pages (especially with the help of Quarto!) provides the perfect stage.\n",
    "\n",
    "Since you're reading this on my Quarto-powered blog, you can see firsthand how effective this setup is for presenting diverse content!"
   ]
  }
 ],
 "metadata": {
  "language_info": {
   "name": "python"
  }
 },
 "nbformat": 4,
 "nbformat_minor": 5
}
