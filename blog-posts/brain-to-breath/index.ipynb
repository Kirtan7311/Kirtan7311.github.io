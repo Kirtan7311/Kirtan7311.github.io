{
 "cells": [
  {
   "cell_type": "markdown",
   "id": "64848b90",
   "metadata": {},
   "source": [
    "---\n",
    "title: \"How Does Brain Focus Influences Your Respiration?\"\n",
    "author: \"Kirtan Gangani\"\n",
    "date: \"July 11, 2025\" \n",
    "categories: [Data Visualization, Matplotlib]\n",
    "format:\n",
    "  html:\n",
    "    toc: true\n",
    "    code-fold: false\n",
    "    code-copy: true\n",
    "jupyter: python3\n",
    "---"
   ]
  },
  {
   "cell_type": "markdown",
   "metadata": {},
   "source": [
    "# Introduction\n",
    "\n",
    "Did you ever wonder how brain and breathing is connected? Ever wondered how brain reacts when you are deeply focused, or when you are calm, or when you are excited? I've always been fascinated by the subtle ways our bodies react to different experiences. So, I decided to turn my own body into a living laboratory. Using a Vernier respiratory belt I have captured my breath across three distinct scenarios:  \n",
    "1. The **focused** intensity of a chess match  \n",
    "2. The serene **calm** of soft music  \n",
    "3. The **raw energy** of metal music."
   ]
  },
  {
   "cell_type": "markdown",
   "id": "770f814d",
   "metadata": {},
   "source": [
    "# About the device and software\n",
    "\n",
    "For this experiment I am using **Vernier Go Direct Respiration Belt** </href> (Order Code - GDX-RB)."
   ]
  },
  {
   "cell_type": "markdown",
   "id": "cbb3eaaf",
   "metadata": {},
   "source": [
    "![Vernier Go Direct Respiration Belt](https://www.nsta.org/sites/default/files/blog/2018/07/vernierrespbelt2.jpg)"
   ]
  },
  {
   "cell_type": "markdown",
   "id": "e3f6ef81",
   "metadata": {},
   "source": [
    "The Vernier Go Direct Respiration Belt is simple to use device or sensor featuring a single button for both powering the device on and off.\n",
    "\n",
    "It also has 3 lights that help you monitor its status:  \n",
    "1. **Bluetooth Connectivity**: A blinking light indicates the device is ready for pairing. Once successfully connected to a Bluetooth device, this light turns green.  \n",
    "2. **Battery Status**: A light that turns on when the battery level is very low.  \n",
    "3. **Proper Fit Indicator**: A light turns on only when the belt is worn correctly around your chest area. If this light doesn't turn on it means the belt is too loose and needs to be tightened for accurate data collection.\n",
    "\n",
    "This was all about device, now about the software:\n",
    "\n",
    "There are multiple Vernier softwares available for different types of tasks and device but for this experiment I have used **Vernier Graphical Analysis**.\n",
    "\n",
    "This software is very user friendly. It gave me a couple of options to connect Respiration Belt to my PC. First was I can manually pair the device via bluetooth connection, or the other, which I used was using a cool feature called **Proximity Connect**. Just turn on the belt and place it near your device, the software will automatically detect and connects to it"
   ]
  },
  {
   "cell_type": "markdown",
   "id": "9cb1be12",
   "metadata": {},
   "source": [
    "# Data Collection\n",
    "\n",
    "For this experiment, I wanted to see how my brain and body reacted to activities I genuinely enjoy and often engage in.\n",
    "\n",
    "## Study 1: The Focus-Intensity of Chess\n",
    "\n",
    "For this study, I played a 3-minute online chess game. The goal of playing chess was to observe how my breathing pattern changes under focus, quick-decision and in winning position.\n",
    "\n",
    "I avoided looking at the live data during the match to ensure my breathing patterns remained unconscious and natural. The results were truly shocking! (And yes, for the record: I won the match!)\n",
    "\n",
    "## Study 2: Ranges of Music\n",
    "\n",
    "For this study, I played two very different genres of music to explore on emotional and physiological responses:\n",
    "\n",
    "1. **Lo-Fi Music**: I played a regular lo-fi music. This genre is known for its calming and ambient qualities. \n",
    "2. **Glam Rock**: The reason behind chosing this genre was it is completely opposite to my first choice, this kind of musics are known for energetic, powerful vocals and rhythms.\n",
    "\n",
    "During both music sessions, I made an effort to keep my mind completely free of other thoughts, allowing the music to be the primary influence on my state."
   ]
  },
  {
   "cell_type": "markdown",
   "id": "1971f036",
   "metadata": {},
   "source": [
    "# Data Visualization and Analysis\n",
    "\n",
    "This is the moment of truth -- the big reveal of all the insights into my brain, and how my brain reacts to the activities I love to do. After reviewing all the data, I was **truly shocked to see just how the brain influences our breathing patterns**. The results from each study provided clear evidence of this connection.\n",
    "\n",
    "## Chess\n",
    "\n",
    "My chess game offered wonderful insights into how our thought and pressure directly impacts respiration. My overall respiration rate (BPM) **averaged approximately 9.52**, ranging from a **minimum of 6.44 BPM** to a **maximum of 11.58 BPM**. The **average** respiratory force (amplitude) was about **17.01 N**. The match naturally progressed through its three distinct stages: Opening, Middlegame, and Endgame.\n",
    "\n",
    "During the Opening, as a strong chess player, I felt confident and familiar with the initial moves. My breathing was normal and consistent.\n",
    "\n",
    "However, as the game transitioned into the Middlegame, the game required some critical decision-making, and my data clearly showed moments where I unconsciously held my breath -- periods shown by noticeable dips or plateaus in my breathing rate, sometimes approaching the **minimum of 6.44 BPM**. These natural pauses coincides precisely with periods of intense calculation. The highest recorded force, a **peak of 36.42 N**, likely indicates more forceful, compensatory breaths taken after these periods of breath-holding, as my body worked to regain oxygen balance.\n",
    "\n",
    "Even at the start of the Endgame, I was unconciously holding my breath as the position was not so easy. At last when I gained a winning advantage, my breathing gradually returned to normal. There were still some game decisive moments at last but ultimately I won.\n",
    "\n",
    "![](chess_force.png)\n",
    "\n",
    ": Figure 1. This graph shows the \"force\" or amplitude of my chest movements during the game. Notice the sustained periods of lower force and more rough patterns during the intense calculation phases, interspersed with sharp increases as my body compensated.\n",
    "\n",
    "![](chess.png)\n",
    "\n",
    ": Figure 2. This graph displays my breathing rate in Breaths Per Minute (BPM). The slight dips and less consistent pattern during the intense phases of the game correspond to moments where my breathing rate decreased due to unconscious breath-holding, sometimes reaching a minimum of 6.44 BPM.\n",
    "\n",
    "## Music\n",
    "\n",
    "I chose two tracks that perfectly contrasted each other to observe a range of physiological responses: **Powfu's \"Death Bed (Coffee for Your Head)\"** (lo-fi) and **Måneskin's \"Beggin' \"** (glam rock). The results, analyzed separately for each song, vividly illustrate how my breathing adapted to the energy and mood of the music.\n",
    "\n",
    "### Lo-Fi\n",
    "\n",
    "With Powfu's lo-fi track, the calm and ambient qualities of the music truly settled my breathing. It felt like I was sleeping. My data showed this: my respiration rate (BPM) averaged a **calm 11.21**, showing remarkable consistency with a **minimum of 10.27 BPM** and a **maximum of 12.33 BPM** representing a calmer, more consistent, and generally slower respiratory rate which means I was relaxed. It was clear that the gentle rhythm of the song encouraged a feeling of peace.\n",
    "\n",
    "![](powfu_force.png)\n",
    "\n",
    ": Figure 3. This graph shows the consistent and rhythmic amplitude of my chest movements while listening to Powfu, reflecting relaxed and even breathing, with an average force of 23.6 N.\n",
    "\n",
    "![](powfu_rate.png)\n",
    "\n",
    ": Figure 4. This graph illustrates the steady and lower breathing rate (BPM) maintained throughout the Powfu track, with an average of 11.21 BPM and a narrow range between 10.27 BPM and 12.33 BPM, a clear sign of a calm physiological state.\n",
    "\n",
    "### Glam Rock\n",
    "\n",
    "In contrast, when Måneskin's \"Beggin'\" started, my breathing shifted dramatically. This glam rock anthem, known for its powerful vocals, and high energy, immediately got me \"vibing\". My respiratory patterns became more **dramatic** and **responsive**. While the **average** respiratory force (amplitude) was **18.53 N**, the graph clearly shows how the force of my breaths intensified and varied significantly, with **peaks reaching 30.98 N** and quick drops to a **minimum of 9.86 N**, demonstrating the erratic nature as I subconsciously mirrored the song's energy. Concurrently, my breathing rate (BPM) showed an **average of 13.59**, with significant fluctuations ranging from a **minimum of 8.95 BPM** to a **maximum of 17.75 BPM**, reflecting the electrifying and energetic nature of the music. This powerful shift in my breathing was a direct physiological response to the song's exhilarating impact.\n",
    "\n",
    "![](menaskin_force.png)\n",
    "\n",
    ": Figure 5. Here, the \"force\" or amplitude of my chest movements during Måneskin's \"Beggin'\" demonstrates higher and more erratic peaks, indicating more energetic and less controlled breathing. The force varied widely, from a minimum of 9.86 N to a peak of 30.98 N.\n",
    "\n",
    "![](menaskin_rate.png)\n",
    "\n",
    ": Figure 6. This graph shows my increased and less consistent breathing rate (BPM) while listening to \"Beggin',\" reflecting the song's stimulating effect on my physiology. The rate averaged 13.59 BPM but showed significant variations, from a low of 8.95 BPM to a high of 17.75 BPM.\n"
   ]
  },
  {
   "cell_type": "markdown",
   "id": "b95b5e05",
   "metadata": {},
   "source": [
    "# Conclusion\n",
    "\n",
    "This experiment demonstrates a powerful reminder that our breath is not just an automatic function, but a dynamic language that constantly communicates with our inner state.\n",
    "\n",
    "From the calculated pauses and pressure-induced shifts during a chess match to the calming consistency of lo-fi and the energetic surges of glam rock, my Vernier Go Direct Respiration Belt captured the dance of my mind, emotions, and physiological responses. It's truly fascinating to see how something as fundamental as breathing adapts so precisely to moments of intense focus, serene relaxation, and exhilarating excitement.\n",
    "\n",
    "This \"big reveal\" wasn't just about numbers and graphs; it was about gaining a deeper understanding of my own body's incredible responsiveness. It highlights how powerful personal data collection can be in understanding the complex connections within us."
   ]
  }
 ],
 "metadata": {
  "language_info": {
   "name": "python"
  }
 },
 "nbformat": 4,
 "nbformat_minor": 5
}
